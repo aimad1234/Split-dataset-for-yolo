{
  "nbformat": 4,
  "nbformat_minor": 0,
  "metadata": {
    "colab": {
      "provenance": []
    },
    "kernelspec": {
      "name": "python3",
      "display_name": "Python 3"
    },
    "language_info": {
      "name": "python"
    }
  },
  "cells": [
    {
      "cell_type": "markdown",
      "source": [
        "## Importing Required Libraries"
      ],
      "metadata": {
        "id": "UOMHJjj-mYX0"
      }
    },
    {
      "cell_type": "code",
      "execution_count": 3,
      "metadata": {
        "id": "pb7QtcX1kgzx"
      },
      "outputs": [],
      "source": [
        "import os\n",
        "import glob\n",
        "from tqdm import tqdm\n",
        "from sklearn.model_selection import train_test_split\n",
        "import shutil"
      ]
    },
    {
      "cell_type": "markdown",
      "source": [
        "## Data Preparation Functions"
      ],
      "metadata": {
        "id": "HOeryivYmjw1"
      }
    },
    {
      "cell_type": "code",
      "source": [
        "def create_directories(parent_dir):\n",
        "    \"\"\"\n",
        "    Create necessary subdirectories in the specified parent directory.\n",
        "    \"\"\"\n",
        "    # Define a list of directory paths to be created\n",
        "    directories = [\n",
        "        f'{parent_dir}/train/images',\n",
        "        f'{parent_dir}/train/labels',\n",
        "        f'{parent_dir}/test/images',\n",
        "        f'{parent_dir}/test/labels'\n",
        "    ]\n",
        "    # Create the specified directories, and use exist_ok=True to avoid errors if they already exist\n",
        "    for directory in directories:\n",
        "        os.makedirs(directory, exist_ok=True)\n",
        "\n",
        "def get_image_names_and_split(source_img_folder, test_size=0.14, random_state=2):\n",
        "    \"\"\"\n",
        "    Get image names from the source directory, split them into training and testing sets,\n",
        "    and return the sets.\n",
        "    \"\"\"\n",
        "    images_list = glob.glob(f\"{source_img_folder}*\")\n",
        "    images_id = [os.path.splitext(os.path.basename(img_path))[0] for img_path in images_list]\n",
        "\n",
        "    img_train, img_test = train_test_split(images_id, test_size=test_size, random_state=random_state)\n",
        "    return img_train, img_test\n",
        "\n",
        "\n",
        "def copy_images_and_labels(source_img_folder, source_label_folder, img_data, des_label_folder, des_img_folder, ext=\".JPG\"):\n",
        "    \"\"\"\n",
        "    Copy image and label files from source folders to destination folders.\n",
        "\n",
        "    Parameters:\n",
        "        source_img_folder (str): Path to the source image folder.\n",
        "        source_label_folder (str): Path to the source label folder.\n",
        "        img_data (list): List of image filenames to copy (Ids).\n",
        "        des_label_folder (str): Path to the destination label folder.\n",
        "        des_img_folder (str): Path to the destination image folder.\n",
        "        ext (str, optional): File extension for image files (default is \".JPG\").\n",
        "\n",
        "    Returns:\n",
        "        None\n",
        "    \"\"\"\n",
        "    for img_filename in tqdm(img_data):\n",
        "        #print(i,img_filename)\n",
        "#         print(img_filename)\n",
        "        img_folder_source =os.path.join(source_img_folder,img_filename)\n",
        "        #print(img_folder_source)\n",
        "        if len(des_img_folder)!=0:\n",
        "            source = os.path.join(source_img_folder,img_filename+ext)\n",
        "            #print(source)\n",
        "            destination = des_img_folder\n",
        "\n",
        "\n",
        "            shutil.copy(source, destination)\n",
        "\n",
        "            source =  os.path.join( source_label_folder ,img_filename+\".txt\")\n",
        "            destination = des_label_folder\n",
        "            shutil.copy(source, destination)"
      ],
      "metadata": {
        "id": "Woy1EZHrkrhq"
      },
      "execution_count": 2,
      "outputs": []
    },
    {
      "cell_type": "markdown",
      "source": [
        "##  main  Execution"
      ],
      "metadata": {
        "id": "PQ6GdaHOmxPM"
      }
    },
    {
      "cell_type": "code",
      "source": [
        "def main():\n",
        "    print(\"Creating directories...\")\n",
        "    parent_dir = \"../Dataset\"\n",
        "    create_directories(parent_dir)\n",
        "    print(\"Directories created.\")\n",
        "\n",
        "    source_img_folder = f'{parent_dir}Annotated_Dataset/images/'\n",
        "    source_label_folder = f\"{parent_dir}Annotated_Dataset/labels/\"\n",
        "    test_size = 0.14\n",
        "    img_train, img_test = get_image_names_and_split(source_img_folder, test_size=test_size, random_state=2)\n",
        "\n",
        "\n",
        "\n",
        "    print(\"Copying images and labels for the training set...\")\n",
        "    copy_images_and_labels(source_img_folder, source_label_folder, img_train, f'{parent_dir}/train/labels', f'{parent_dir}/train/images/', ext=\".JPG\")\n",
        "    print(\"Training set copied.\")\n",
        "\n",
        "    print(\"Copying images and labels for the test set...\")\n",
        "    copy_images_and_labels(source_img_folder, source_label_folder, img_test, f'{parent_dir}/test/labels', f'{parent_dir}/test/images/', ext=\".JPG\")\n",
        "    print(\"Test set copied.\")\n",
        "\n",
        "\n",
        "if __name__ == \"__main__\":\n",
        "    main()"
      ],
      "metadata": {
        "id": "D5eT32lbk8tD"
      },
      "execution_count": null,
      "outputs": []
    },
    {
      "cell_type": "markdown",
      "source": [
        "## Counting Files in Test Directories\n",
        "\n",
        "\n",
        "\n",
        "\n",
        "\n"
      ],
      "metadata": {
        "id": "_s7tvl4Zm_nD"
      }
    },
    {
      "cell_type": "code",
      "source": [
        "!echo \"Number of files in test/images:\" && ls {parent_dir}/test/images/ | wc -l\n",
        "!echo \"Number of files in test/labels:\" && ls {parent_dir}/test/labels/ | wc -l"
      ],
      "metadata": {
        "id": "aEB0PHuynCjc"
      },
      "execution_count": null,
      "outputs": []
    },
    {
      "cell_type": "markdown",
      "source": [
        "## Counting Files in Train Directories\n"
      ],
      "metadata": {
        "id": "g5B2zGWpnHm5"
      }
    },
    {
      "cell_type": "code",
      "source": [
        "!echo \"Number of files in train/images:\" && ls {parent_dir}/train/images/ | wc -l\n",
        "!echo \"Number of files in train/labels:\" && ls {parent_dir}/train/labels/ | wc -l"
      ],
      "metadata": {
        "id": "wzNmxunSnJef"
      },
      "execution_count": null,
      "outputs": []
    }
  ]
}